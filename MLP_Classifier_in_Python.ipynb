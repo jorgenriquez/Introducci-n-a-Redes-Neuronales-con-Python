{
  "cells": [
    {
      "cell_type": "markdown",
      "metadata": {
        "id": "view-in-github",
        "colab_type": "text"
      },
      "source": [
        "<a href=\"https://colab.research.google.com/github/jorgenriquez/Redes-Neuronales-con-Python/blob/main/MLP_Classifier_in_Python.ipynb\" target=\"_parent\"><img src=\"https://colab.research.google.com/assets/colab-badge.svg\" alt=\"Open In Colab\"/></a>"
      ]
    },
    {
      "cell_type": "markdown",
      "metadata": {
        "id": "kfkkDs2U4zi1"
      },
      "source": [
        "# **MLP Classifier in Python**"
      ]
    },
    {
      "cell_type": "markdown",
      "source": [
        "Este código utiliza la función `load_breast_cancer()` para cargar el conjunto de datos sobre cáncer de mama de Scikit-Learn. Las etiquetas de destino relevantes se asignan a la variable y, mientras que los datos característicos se asignan a la variable X. Para categorizar los tumores de cáncer de mama como malignos o benignos, este conjunto de datos se utiliza con frecuencia para tareas de clasificación binaria. Las etiquetas de destino (y) reflejan las clasificaciones correspondientes de los tumores, mientras que los datos característicos (X) representan las diferentes propiedades de los tumores."
      ],
      "metadata": {
        "id": "SXgweJ93AEN9"
      }
    },
    {
      "cell_type": "markdown",
      "source": [
        "## **Cargar Librerias**"
      ],
      "metadata": {
        "id": "aHoqsL9N6JJ8"
      }
    },
    {
      "cell_type": "code",
      "source": [
        "# Import necessary libraries\n",
        "from sklearn.neural_network import MLPClassifier\n",
        "from sklearn.neural_network import MLPRegressor\n",
        "from sklearn.datasets import load_breast_cancer\n",
        "from sklearn.model_selection import train_test_split\n",
        "from sklearn.preprocessing import StandardScaler\n",
        "from sklearn.metrics import accuracy_score, classification_report, confusion_matrix\n",
        "from sklearn import metrics\n",
        "import matplotlib.pyplot as plt\n",
        "import seaborn as sns"
      ],
      "metadata": {
        "id": "yYAgX99654Fm"
      },
      "execution_count": 19,
      "outputs": []
    },
    {
      "cell_type": "markdown",
      "source": [
        "# **Cargar Dataset**"
      ],
      "metadata": {
        "id": "H_sNYeOm6A1M"
      }
    },
    {
      "cell_type": "code",
      "source": [
        "# Load the Breast Cancer dataset\n",
        "cancer_data = load_breast_cancer()\n",
        "X, y = cancer_data.data, cancer_data.target"
      ],
      "metadata": {
        "id": "JFGzAkNs6BAU"
      },
      "execution_count": 20,
      "outputs": []
    },
    {
      "cell_type": "markdown",
      "source": [
        "# **Separar datos de entrenamiento y validación**"
      ],
      "metadata": {
        "id": "l_jBz4Qf7HXl"
      }
    },
    {
      "cell_type": "code",
      "source": [
        "X_train, X_test, y_train, y_test = train_test_split(X, y, test_size=0.25)"
      ],
      "metadata": {
        "id": "IQAGb1gV7Hfs"
      },
      "execution_count": 21,
      "outputs": []
    },
    {
      "cell_type": "markdown",
      "source": [
        "# **Escalar Datos**"
      ],
      "metadata": {
        "id": "tN1964Ja9XI6"
      }
    },
    {
      "cell_type": "code",
      "source": [
        "# Standardize features by removing the mean and scaling to unit variance\n",
        "scaler = StandardScaler()\n",
        "X_train = scaler.fit_transform(X_train)\n",
        "X_test = scaler.transform(X_test)"
      ],
      "metadata": {
        "id": "w9tSg_Sk9XTy"
      },
      "execution_count": 22,
      "outputs": []
    },
    {
      "cell_type": "markdown",
      "source": [
        "# **Entrenar Modelo**"
      ],
      "metadata": {
        "id": "CgJ6CVl88xuL"
      }
    },
    {
      "cell_type": "code",
      "source": [
        "# Create an MLPClassifier model\n",
        "model = MLPClassifier(hidden_layer_sizes=(64, 32),max_iter=1000, random_state=42)\n",
        "model.fit(X_train, y_train)\n",
        "print(); print(model)"
      ],
      "metadata": {
        "colab": {
          "base_uri": "https://localhost:8080/"
        },
        "id": "IGNveEv18r6E",
        "outputId": "cf19311b-2ce6-4daf-9bd8-6e5c5f15079a"
      },
      "execution_count": 23,
      "outputs": [
        {
          "output_type": "stream",
          "name": "stdout",
          "text": [
            "\n",
            "MLPClassifier(hidden_layer_sizes=(64, 32), max_iter=1000, random_state=42)\n"
          ]
        }
      ]
    },
    {
      "cell_type": "markdown",
      "source": [
        "# **Crear Predicciones**"
      ],
      "metadata": {
        "id": "DpDoCBmg8Nqz"
      }
    },
    {
      "cell_type": "code",
      "source": [
        "# make predictions\n",
        "expected_y  = y_test\n",
        "predicted_y = model.predict(X_test)\n",
        "\n"
      ],
      "metadata": {
        "id": "bgmJ6LZF8Nzq"
      },
      "execution_count": 24,
      "outputs": []
    },
    {
      "cell_type": "markdown",
      "source": [
        "# **Validar a traves de Metricas de desempeño**"
      ],
      "metadata": {
        "id": "54WUJzow9DH8"
      }
    },
    {
      "cell_type": "code",
      "source": [
        "# Calculate the accuracy of the model\n",
        "accuracy = accuracy_score(y_test, predicted_y)\n",
        "print(f\"Accuracy: {accuracy:.2f}\")"
      ],
      "metadata": {
        "colab": {
          "base_uri": "https://localhost:8080/"
        },
        "id": "tIiD8fEz-k6g",
        "outputId": "1c5c6309-c213-4682-fbd4-54b1ca9d6b85"
      },
      "execution_count": 25,
      "outputs": [
        {
          "output_type": "stream",
          "name": "stdout",
          "text": [
            "Accuracy: 0.97\n"
          ]
        }
      ]
    },
    {
      "cell_type": "markdown",
      "source": [
        "# **Reporte de metricas**"
      ],
      "metadata": {
        "id": "lYVVhTxk-_xg"
      }
    },
    {
      "cell_type": "code",
      "source": [
        "# Generate a classification report\n",
        "class_report = classification_report(y_test, predicted_y)\n",
        "print(\"Classification Report:\\n\", class_report)"
      ],
      "metadata": {
        "colab": {
          "base_uri": "https://localhost:8080/"
        },
        "id": "KXEUr8sZ_KJw",
        "outputId": "5f25f9a1-8307-43db-8afc-0fc07e49717f"
      },
      "execution_count": 26,
      "outputs": [
        {
          "output_type": "stream",
          "name": "stdout",
          "text": [
            "Classification Report:\n",
            "               precision    recall  f1-score   support\n",
            "\n",
            "           0       1.00      0.93      0.96        55\n",
            "           1       0.96      1.00      0.98        88\n",
            "\n",
            "    accuracy                           0.97       143\n",
            "   macro avg       0.98      0.96      0.97       143\n",
            "weighted avg       0.97      0.97      0.97       143\n",
            "\n"
          ]
        }
      ]
    },
    {
      "cell_type": "markdown",
      "source": [
        "### **Matriz de Confusion**"
      ],
      "metadata": {
        "id": "-eghIZ9M_XSZ"
      }
    },
    {
      "cell_type": "code",
      "source": [
        "print(); print(metrics.confusion_matrix(expected_y, predicted_y))"
      ],
      "metadata": {
        "colab": {
          "base_uri": "https://localhost:8080/"
        },
        "id": "_7whoWyW_VSx",
        "outputId": "0d4dfbe3-b1bd-4c45-f0a7-3bb844657015"
      },
      "execution_count": 27,
      "outputs": [
        {
          "output_type": "stream",
          "name": "stdout",
          "text": [
            "\n",
            "[[51  4]\n",
            " [ 0 88]]\n"
          ]
        }
      ]
    }
  ],
  "metadata": {
    "kernelspec": {
      "display_name": "Python 3",
      "language": "python",
      "name": "python3"
    },
    "language_info": {
      "codemirror_mode": {
        "name": "ipython",
        "version": 3
      },
      "file_extension": ".py",
      "mimetype": "text/x-python",
      "name": "python",
      "nbconvert_exporter": "python",
      "pygments_lexer": "ipython3",
      "version": "3.6.8"
    },
    "colab": {
      "provenance": [],
      "include_colab_link": true
    }
  },
  "nbformat": 4,
  "nbformat_minor": 0
}